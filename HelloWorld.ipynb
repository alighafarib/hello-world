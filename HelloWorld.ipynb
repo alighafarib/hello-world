{
  "nbformat": 4,
  "nbformat_minor": 0,
  "metadata": {
    "colab": {
      "name": "HelloWorld.ipynb",
      "provenance": [],
      "collapsed_sections": [],
      "authorship_tag": "ABX9TyNLuKDVWVvsFnPYxne2EKLK",
      "include_colab_link": true
    },
    "kernelspec": {
      "name": "python3",
      "display_name": "Python 3"
    }
  },
  "cells": [
    {
      "cell_type": "markdown",
      "metadata": {
        "id": "view-in-github",
        "colab_type": "text"
      },
      "source": [
        "<a href=\"https://colab.research.google.com/github/alighafarib/hello-world/blob/master/HelloWorld.ipynb\" target=\"_parent\"><img src=\"https://colab.research.google.com/assets/colab-badge.svg\" alt=\"Open In Colab\"/></a>"
      ]
    },
    {
      "cell_type": "code",
      "metadata": {
        "id": "8ZnYlZKdeHjn"
      },
      "source": [
        "import tensorflow as tf \r\n",
        "import numpy as np \r\n",
        "from tensorflow import keras\r\n",
        "X = [ -1 , 0 , 1 ,2, 3, 4 , 5]\r\n",
        "Y = [ -1 , 1 , 3 ,5, 7, 9, 11]\r\n",
        "xs = np.array(X,dtype = float)\r\n",
        "ys = np.array(Y,dtype = float)\r\n",
        "model = tf.keras.Sequential([keras.layers.Dense(units=1, input_shape=[1])])\r\n",
        "model.compile(optimizer='sgd',loss= 'mean_squared_error')\r\n",
        "model.fit(xs,ys,epochs=2000)\r\n",
        "print(model.predict([-8,-10,-12,13]))"
      ],
      "execution_count": null,
      "outputs": []
    },
    {
      "cell_type": "code",
      "metadata": {
        "id": "9GlGLxQs2hH3"
      },
      "source": [
        ""
      ],
      "execution_count": 1,
      "outputs": []
    },
    {
      "cell_type": "code",
      "metadata": {
        "id": "FJ1DUiB81-y1"
      },
      "source": [
        ""
      ],
      "execution_count": null,
      "outputs": []
    }
  ]
}